{
 "cells": [
  {
   "attachments": {},
   "cell_type": "markdown",
   "metadata": {},
   "source": [
    "# Advertising spotting"
   ]
  },
  {
   "attachments": {},
   "cell_type": "markdown",
   "metadata": {},
   "source": [
    "### Requirements\n",
    "\n",
    "- Pandas"
   ]
  },
  {
   "cell_type": "code",
   "execution_count": 1,
   "metadata": {},
   "outputs": [],
   "source": [
    "import pandas as pd\n",
    "import numpy as np \n",
    "\n",
    "from sklearn.pipeline import Pipeline, make_pipeline\n",
    "from sklearn.preprocessing import MinMaxScaler, StandardScaler\n",
    "from sklearn.linear_model import LogisticRegression\n",
    "from sklearn.metrics import accuracy_score\n",
    "from sklearn.base import BaseEstimator, TransformerMixin\n",
    "\n",
    "import matplotlib.pyplot as plt\n",
    "\n",
    "from prepare_data import get_train_test_public"
   ]
  },
  {
   "attachments": {},
   "cell_type": "markdown",
   "metadata": {},
   "source": [
    "# Data exploration"
   ]
  },
  {
   "cell_type": "code",
   "execution_count": 2,
   "metadata": {},
   "outputs": [],
   "source": [
    "X_train, X_test, y_train, y_test = get_train_test_public()"
   ]
  },
  {
   "cell_type": "code",
   "execution_count": 3,
   "metadata": {},
   "outputs": [
    {
     "data": {
      "text/html": [
       "<div>\n",
       "<style scoped>\n",
       "    .dataframe tbody tr th:only-of-type {\n",
       "        vertical-align: middle;\n",
       "    }\n",
       "\n",
       "    .dataframe tbody tr th {\n",
       "        vertical-align: top;\n",
       "    }\n",
       "\n",
       "    .dataframe thead th {\n",
       "        text-align: right;\n",
       "    }\n",
       "</style>\n",
       "<table border=\"1\" class=\"dataframe\">\n",
       "  <thead>\n",
       "    <tr style=\"text-align: right;\">\n",
       "      <th></th>\n",
       "      <th>shot_length</th>\n",
       "      <th>motion_distribution_mean</th>\n",
       "      <th>motion_distribution_variance</th>\n",
       "      <th>frame_difference_distribution_mean</th>\n",
       "      <th>frame_difference_distribution_variance</th>\n",
       "      <th>short_time_energy_mean</th>\n",
       "      <th>short_time_energy_variance</th>\n",
       "      <th>ZCR_mean</th>\n",
       "      <th>ZCR_variance</th>\n",
       "      <th>spectral_centroid_mean</th>\n",
       "      <th>...</th>\n",
       "      <th>bag_of_audio_words_3994</th>\n",
       "      <th>bag_of_audio_words_3995</th>\n",
       "      <th>bag_of_audio_words_3996</th>\n",
       "      <th>bag_of_audio_words_3997</th>\n",
       "      <th>bag_of_audio_words_3998</th>\n",
       "      <th>bag_of_audio_words_3999</th>\n",
       "      <th>bag_of_audio_words_4000</th>\n",
       "      <th>edge_change_ratio_mean</th>\n",
       "      <th>edge_change_ratio_variance</th>\n",
       "      <th>channel</th>\n",
       "    </tr>\n",
       "  </thead>\n",
       "  <tbody>\n",
       "    <tr>\n",
       "      <th>0</th>\n",
       "      <td>39.0</td>\n",
       "      <td>0.358888</td>\n",
       "      <td>0.179183</td>\n",
       "      <td>2.207158</td>\n",
       "      <td>1.448997</td>\n",
       "      <td>0.011593</td>\n",
       "      <td>0.010000</td>\n",
       "      <td>0.135016</td>\n",
       "      <td>0.092428</td>\n",
       "      <td>3539.445312</td>\n",
       "      <td>...</td>\n",
       "      <td>NaN</td>\n",
       "      <td>NaN</td>\n",
       "      <td>NaN</td>\n",
       "      <td>NaN</td>\n",
       "      <td>NaN</td>\n",
       "      <td>NaN</td>\n",
       "      <td>NaN</td>\n",
       "      <td>0.413140</td>\n",
       "      <td>0.485093</td>\n",
       "      <td>CNN</td>\n",
       "    </tr>\n",
       "    <tr>\n",
       "      <th>1</th>\n",
       "      <td>354.0</td>\n",
       "      <td>1.261189</td>\n",
       "      <td>0.785149</td>\n",
       "      <td>5.846283</td>\n",
       "      <td>5.492986</td>\n",
       "      <td>0.018532</td>\n",
       "      <td>0.011248</td>\n",
       "      <td>0.126942</td>\n",
       "      <td>0.069577</td>\n",
       "      <td>3912.496582</td>\n",
       "      <td>...</td>\n",
       "      <td>NaN</td>\n",
       "      <td>NaN</td>\n",
       "      <td>NaN</td>\n",
       "      <td>NaN</td>\n",
       "      <td>NaN</td>\n",
       "      <td>NaN</td>\n",
       "      <td>NaN</td>\n",
       "      <td>0.453395</td>\n",
       "      <td>0.277466</td>\n",
       "      <td>CNN</td>\n",
       "    </tr>\n",
       "    <tr>\n",
       "      <th>2</th>\n",
       "      <td>39.0</td>\n",
       "      <td>0.977077</td>\n",
       "      <td>1.535457</td>\n",
       "      <td>7.017412</td>\n",
       "      <td>10.836514</td>\n",
       "      <td>0.017693</td>\n",
       "      <td>0.010044</td>\n",
       "      <td>0.122276</td>\n",
       "      <td>0.054648</td>\n",
       "      <td>3576.808838</td>\n",
       "      <td>...</td>\n",
       "      <td>NaN</td>\n",
       "      <td>NaN</td>\n",
       "      <td>NaN</td>\n",
       "      <td>NaN</td>\n",
       "      <td>NaN</td>\n",
       "      <td>NaN</td>\n",
       "      <td>NaN</td>\n",
       "      <td>0.709121</td>\n",
       "      <td>0.679148</td>\n",
       "      <td>CNNIBN</td>\n",
       "    </tr>\n",
       "    <tr>\n",
       "      <th>3</th>\n",
       "      <td>164.0</td>\n",
       "      <td>2.187399</td>\n",
       "      <td>2.278633</td>\n",
       "      <td>13.425022</td>\n",
       "      <td>16.933500</td>\n",
       "      <td>0.015677</td>\n",
       "      <td>0.009293</td>\n",
       "      <td>0.083365</td>\n",
       "      <td>0.047887</td>\n",
       "      <td>3843.954834</td>\n",
       "      <td>...</td>\n",
       "      <td>NaN</td>\n",
       "      <td>NaN</td>\n",
       "      <td>NaN</td>\n",
       "      <td>NaN</td>\n",
       "      <td>NaN</td>\n",
       "      <td>NaN</td>\n",
       "      <td>NaN</td>\n",
       "      <td>0.201829</td>\n",
       "      <td>0.504669</td>\n",
       "      <td>CNNIBN</td>\n",
       "    </tr>\n",
       "    <tr>\n",
       "      <th>4</th>\n",
       "      <td>25.0</td>\n",
       "      <td>6.117249</td>\n",
       "      <td>5.267529</td>\n",
       "      <td>26.422398</td>\n",
       "      <td>14.661750</td>\n",
       "      <td>0.013660</td>\n",
       "      <td>0.006832</td>\n",
       "      <td>0.070750</td>\n",
       "      <td>0.046628</td>\n",
       "      <td>3334.407227</td>\n",
       "      <td>...</td>\n",
       "      <td>NaN</td>\n",
       "      <td>NaN</td>\n",
       "      <td>NaN</td>\n",
       "      <td>NaN</td>\n",
       "      <td>NaN</td>\n",
       "      <td>NaN</td>\n",
       "      <td>NaN</td>\n",
       "      <td>0.581734</td>\n",
       "      <td>0.411938</td>\n",
       "      <td>CNNIBN</td>\n",
       "    </tr>\n",
       "  </tbody>\n",
       "</table>\n",
       "<p>5 rows × 4126 columns</p>\n",
       "</div>"
      ],
      "text/plain": [
       "   shot_length  motion_distribution_mean  motion_distribution_variance  \\\n",
       "0         39.0                  0.358888                      0.179183   \n",
       "1        354.0                  1.261189                      0.785149   \n",
       "2         39.0                  0.977077                      1.535457   \n",
       "3        164.0                  2.187399                      2.278633   \n",
       "4         25.0                  6.117249                      5.267529   \n",
       "\n",
       "   frame_difference_distribution_mean  frame_difference_distribution_variance  \\\n",
       "0                            2.207158                                1.448997   \n",
       "1                            5.846283                                5.492986   \n",
       "2                            7.017412                               10.836514   \n",
       "3                           13.425022                               16.933500   \n",
       "4                           26.422398                               14.661750   \n",
       "\n",
       "   short_time_energy_mean  short_time_energy_variance  ZCR_mean  ZCR_variance  \\\n",
       "0                0.011593                    0.010000  0.135016      0.092428   \n",
       "1                0.018532                    0.011248  0.126942      0.069577   \n",
       "2                0.017693                    0.010044  0.122276      0.054648   \n",
       "3                0.015677                    0.009293  0.083365      0.047887   \n",
       "4                0.013660                    0.006832  0.070750      0.046628   \n",
       "\n",
       "   spectral_centroid_mean  ...  bag_of_audio_words_3994  \\\n",
       "0             3539.445312  ...                      NaN   \n",
       "1             3912.496582  ...                      NaN   \n",
       "2             3576.808838  ...                      NaN   \n",
       "3             3843.954834  ...                      NaN   \n",
       "4             3334.407227  ...                      NaN   \n",
       "\n",
       "   bag_of_audio_words_3995  bag_of_audio_words_3996  bag_of_audio_words_3997  \\\n",
       "0                      NaN                      NaN                      NaN   \n",
       "1                      NaN                      NaN                      NaN   \n",
       "2                      NaN                      NaN                      NaN   \n",
       "3                      NaN                      NaN                      NaN   \n",
       "4                      NaN                      NaN                      NaN   \n",
       "\n",
       "   bag_of_audio_words_3998  bag_of_audio_words_3999  bag_of_audio_words_4000  \\\n",
       "0                      NaN                      NaN                      NaN   \n",
       "1                      NaN                      NaN                      NaN   \n",
       "2                      NaN                      NaN                      NaN   \n",
       "3                      NaN                      NaN                      NaN   \n",
       "4                      NaN                      NaN                      NaN   \n",
       "\n",
       "   edge_change_ratio_mean  edge_change_ratio_variance  channel  \n",
       "0                0.413140                    0.485093      CNN  \n",
       "1                0.453395                    0.277466      CNN  \n",
       "2                0.709121                    0.679148   CNNIBN  \n",
       "3                0.201829                    0.504669   CNNIBN  \n",
       "4                0.581734                    0.411938   CNNIBN  \n",
       "\n",
       "[5 rows x 4126 columns]"
      ]
     },
     "execution_count": 3,
     "metadata": {},
     "output_type": "execute_result"
    }
   ],
   "source": [
    "X_train.head()"
   ]
  },
  {
   "cell_type": "code",
   "execution_count": 4,
   "metadata": {},
   "outputs": [
    {
     "data": {
      "text/plain": [
       "array([ 1, -1], dtype=int64)"
      ]
     },
     "execution_count": 4,
     "metadata": {},
     "output_type": "execute_result"
    }
   ],
   "source": [
    "y_train.unique()"
   ]
  },
  {
   "cell_type": "code",
   "execution_count": 5,
   "metadata": {},
   "outputs": [
    {
     "data": {
      "text/plain": [
       "array([1, 0], dtype=int64)"
      ]
     },
     "execution_count": 5,
     "metadata": {},
     "output_type": "execute_result"
    }
   ],
   "source": [
    "y_train[y_train==-1]=0\n",
    "y_train.unique()"
   ]
  },
  {
   "attachments": {},
   "cell_type": "markdown",
   "metadata": {},
   "source": [
    "# Simple model"
   ]
  },
  {
   "cell_type": "code",
   "execution_count": 7,
   "metadata": {},
   "outputs": [],
   "source": [
    "class Scaler(BaseEstimator, TransformerMixin):\n",
    "    def __init__(self, scaler):\n",
    "        self.scaler = scaler\n",
    "\n",
    "    def fit(self, X, y=None):\n",
    "        self.scaler.fit(X)\n",
    "        return self\n",
    "\n",
    "    def transform(self, X_df):\n",
    "        idx = X_df.index\n",
    "        col = X_df.columns\n",
    "        res = self.scaler.transform(X_df)\n",
    "        res = pd.DataFrame(res,index=idx,columns=col)\n",
    "\n",
    "        return res\n",
    "  \n",
    "scaling = Scaler(StandardScaler())\n",
    "logreg = LogisticRegression(max_iter=100)\n",
    "\n",
    "pipe = make_pipeline(scaling, logreg)"
   ]
  },
  {
   "cell_type": "code",
   "execution_count": 8,
   "metadata": {},
   "outputs": [],
   "source": [
    "pipe.fit(X_train, y_train)\n",
    "y_pred = pipe.predict(X_test)"
   ]
  },
  {
   "cell_type": "code",
   "execution_count": null,
   "metadata": {},
   "outputs": [],
   "source": []
  }
 ],
 "metadata": {
  "kernelspec": {
   "display_name": "Python 3",
   "language": "python",
   "name": "python3"
  },
  "language_info": {
   "codemirror_mode": {
    "name": "ipython",
    "version": 3
   },
   "file_extension": ".py",
   "mimetype": "text/x-python",
   "name": "python",
   "nbconvert_exporter": "python",
   "pygments_lexer": "ipython3",
   "version": "3.9.13"
  },
  "orig_nbformat": 4,
  "vscode": {
   "interpreter": {
    "hash": "81794d4967e6c3204c66dcd87b604927b115b27c00565d3d43f05ba2f3a2cb0d"
   }
  }
 },
 "nbformat": 4,
 "nbformat_minor": 2
}
